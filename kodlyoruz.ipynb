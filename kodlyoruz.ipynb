{
 "cells": [
  {
   "cell_type": "code",
   "execution_count": 1,
   "id": "78370f63-681c-4e4d-8294-aa8048ca6e3d",
   "metadata": {},
   "outputs": [],
   "source": [
    "# List of points in 2D space\n",
    "points = [(1, 2), (3, 4), (5, 6), (7, 8), (9, 10)]"
   ]
  },
  {
   "cell_type": "code",
   "execution_count": 3,
   "id": "4aa394ff-f16b-4d84-8e2e-0648571cce20",
   "metadata": {},
   "outputs": [],
   "source": [
    "# Function to calculate Euclidean distance between two points\n",
    "def euclideanDistance(point1, point2):\n",
    "    return ((point2[0] - point1[0])**2 + (point2[1] - point1[1])**2) ** 0.5\n"
   ]
  },
  {
   "cell_type": "code",
   "execution_count": 5,
   "id": "7592ef27-d905-4ac2-a61e-fdaae62b60e9",
   "metadata": {},
   "outputs": [],
   "source": [
    "# List to store distances\n",
    "distances = []"
   ]
  },
  {
   "cell_type": "code",
   "execution_count": 7,
   "id": "496f68b8-d214-4e3b-93c8-9b7ce2c0ea56",
   "metadata": {},
   "outputs": [],
   "source": [
    "# Calculate distances between every point pair\n",
    "for i in range(len(points)):\n",
    "    for j in range(i + 1, len(points)):\n",
    "        distance = euclideanDistance(points[i], points[j])\n",
    "        distances.append(distance)"
   ]
  },
  {
   "cell_type": "code",
   "execution_count": 9,
   "id": "4ffede6f-f61b-4b1f-a6c5-639a074d18a0",
   "metadata": {},
   "outputs": [
    {
     "name": "stdout",
     "output_type": "stream",
     "text": [
      "Minimum Euclidean distance: 2.8284271247461903\n"
     ]
    }
   ],
   "source": [
    "# Find and print the minimum distance\n",
    "min_distance = min(distances)\n",
    "print(\"Minimum Euclidean distance:\", min_distance)"
   ]
  },
  {
   "cell_type": "code",
   "execution_count": null,
   "id": "aa86720d-25b9-4e69-ade0-ed463b02cc84",
   "metadata": {},
   "outputs": [],
   "source": []
  }
 ],
 "metadata": {
  "kernelspec": {
   "display_name": "Python 3 (ipykernel)",
   "language": "python",
   "name": "python3"
  },
  "language_info": {
   "codemirror_mode": {
    "name": "ipython",
    "version": 3
   },
   "file_extension": ".py",
   "mimetype": "text/x-python",
   "name": "python",
   "nbconvert_exporter": "python",
   "pygments_lexer": "ipython3",
   "version": "3.12.4"
  }
 },
 "nbformat": 4,
 "nbformat_minor": 5
}
